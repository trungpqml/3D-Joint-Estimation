{
 "metadata": {
  "language_info": {
   "codemirror_mode": {
    "name": "ipython",
    "version": 3
   },
   "file_extension": ".py",
   "mimetype": "text/x-python",
   "name": "python",
   "nbconvert_exporter": "python",
   "pygments_lexer": "ipython3",
   "version": "3.8.3-final"
  },
  "orig_nbformat": 2,
  "kernelspec": {
   "name": "python_defaultSpec_1597367157184",
   "display_name": "Python 3.8.3 64-bit ('venv3d': venv)"
  }
 },
 "nbformat": 4,
 "nbformat_minor": 2,
 "cells": [
  {
   "cell_type": "code",
   "execution_count": 1,
   "metadata": {},
   "outputs": [],
   "source": [
    "import tensorflow as tf\n",
    "from tensorflow.keras.layers import Dense, Dropout, BatchNormalization, LeakyReLU, Input\n",
    "from tensorflow.keras.models import Sequential"
   ]
  },
  {
   "cell_type": "code",
   "execution_count": 2,
   "metadata": {},
   "outputs": [],
   "source": [
    "units = 10\n",
    "features = 54\n",
    "inputs = tf.keras.layers.Input(shape=(features,))\n",
    "h_1 = Dense( units=units, kernel_initializer='he_normal', bias_initializer='zeros')(inputs)\n",
    "h_2 = BatchNormalization()(h_1)\n",
    "h_3 = LeakyReLU(alpha=0.01)(h_2)\n",
    "outputs = Dropout(0.5)(h_3)\n",
    "\n",
    "model = tf.keras.Model(inputs=[inputs], outputs=[outputs])"
   ]
  },
  {
   "cell_type": "code",
   "execution_count": 3,
   "metadata": {
    "tags": []
   },
   "outputs": [
    {
     "output_type": "stream",
     "name": "stdout",
     "text": "Model: \"functional_1\"\n_________________________________________________________________\nLayer (type)                 Output Shape              Param #   \n=================================================================\ninput_1 (InputLayer)         [(None, 54)]              0         \n_________________________________________________________________\ndense (Dense)                (None, 10)                550       \n_________________________________________________________________\nbatch_normalization (BatchNo (None, 10)                40        \n_________________________________________________________________\nleaky_re_lu (LeakyReLU)      (None, 10)                0         \n_________________________________________________________________\ndropout (Dropout)            (None, 10)                0         \n=================================================================\nTotal params: 590\nTrainable params: 570\nNon-trainable params: 20\n_________________________________________________________________\n"
    }
   ],
   "source": [
    "model.summary()"
   ]
  },
  {
   "cell_type": "code",
   "execution_count": 4,
   "metadata": {},
   "outputs": [
    {
     "output_type": "execute_result",
     "data": {
      "text/plain": "<tf.Tensor: shape=(1, 54), dtype=float32, numpy=\narray([[ 1.4135814 ,  0.6421391 , -0.27953327, -2.043901  ,  1.4690732 ,\n        -1.3739818 , -1.3444251 , -1.3715066 , -0.97921956,  1.5884216 ,\n         0.2527496 , -1.9697795 ,  0.2984658 , -0.89714307,  0.7142499 ,\n        -1.6682302 ,  0.18361786,  0.53128904,  0.41940412,  0.5479198 ,\n         1.2807066 , -0.53527325,  1.2284347 ,  1.413726  ,  1.6461408 ,\n         2.166583  , -1.8103286 ,  0.9457093 , -0.12526248, -2.1458645 ,\n        -0.171338  ,  0.5207195 , -1.5163895 ,  1.5715888 ,  1.4130744 ,\n        -0.16182834, -0.16761403, -2.6016126 , -0.7709971 ,  1.5710032 ,\n        -0.9679242 , -0.90455556, -1.2925057 , -1.9625329 ,  0.67504823,\n         0.7283445 , -0.70282364, -0.8818216 ,  0.75903773, -0.26363954,\n        -0.20570222,  0.05438731, -1.0121843 ,  0.33663833]],\n      dtype=float32)>"
     },
     "metadata": {},
     "execution_count": 4
    }
   ],
   "source": [
    "inputs = tf.random.normal([1, features])\n",
    "inputs"
   ]
  },
  {
   "cell_type": "code",
   "execution_count": 5,
   "metadata": {
    "tags": []
   },
   "outputs": [
    {
     "output_type": "execute_result",
     "data": {
      "text/plain": "TensorShape([1, 10])"
     },
     "metadata": {},
     "execution_count": 5
    }
   ],
   "source": [
    "# outputs = model(inputs, training=True)\n",
    "outputs = model(inputs)\n",
    "outputs.shape"
   ]
  },
  {
   "cell_type": "code",
   "execution_count": 6,
   "metadata": {},
   "outputs": [
    {
     "output_type": "execute_result",
     "data": {
      "text/plain": "<tf.Tensor: shape=(1, 10), dtype=float32, numpy=\narray([[ 0.03434995,  1.2177731 ,  0.6577553 ,  0.6621918 ,  0.8766108 ,\n        -0.02241789,  1.2086124 , -0.00200204, -0.01769386, -0.00752769]],\n      dtype=float32)>"
     },
     "metadata": {},
     "execution_count": 6
    }
   ],
   "source": [
    "outputs"
   ]
  },
  {
   "cell_type": "code",
   "execution_count": 7,
   "metadata": {},
   "outputs": [
    {
     "output_type": "execute_result",
     "data": {
      "text/plain": "<tf.Tensor: shape=(1, 10), dtype=float32, numpy=array([[0., 0., 0., 0., 0., 0., 0., 0., 0., 0.]], dtype=float32)>"
     },
     "metadata": {},
     "execution_count": 7
    }
   ],
   "source": [
    "outputs = model(inputs, training=True)\n",
    "outputs"
   ]
  },
  {
   "cell_type": "code",
   "execution_count": 8,
   "metadata": {},
   "outputs": [
    {
     "output_type": "execute_result",
     "data": {
      "text/plain": "[<tensorflow.python.keras.engine.input_layer.InputLayer at 0x7f92e7de2af0>,\n <tensorflow.python.keras.layers.core.Dense at 0x7f92e7de27c0>,\n <tensorflow.python.keras.layers.normalization_v2.BatchNormalization at 0x7f92ecec3e20>,\n <tensorflow.python.keras.layers.advanced_activations.LeakyReLU at 0x7f92ecec3f40>,\n <tensorflow.python.keras.layers.core.Dropout at 0x7f92ed0930d0>]"
     },
     "metadata": {},
     "execution_count": 8
    }
   ],
   "source": [
    "model.layers"
   ]
  },
  {
   "cell_type": "code",
   "execution_count": 13,
   "metadata": {},
   "outputs": [
    {
     "output_type": "execute_result",
     "data": {
      "text/plain": "<tf.Tensor: shape=(1, 54), dtype=float32, numpy=\narray([[ 1.4135814 ,  0.6421391 , -0.27953327, -2.043901  ,  1.4690732 ,\n        -1.3739818 , -1.3444251 , -1.3715066 , -0.97921956,  1.5884216 ,\n         0.2527496 , -1.9697795 ,  0.2984658 , -0.89714307,  0.7142499 ,\n        -1.6682302 ,  0.18361786,  0.53128904,  0.41940412,  0.5479198 ,\n         1.2807066 , -0.53527325,  1.2284347 ,  1.413726  ,  1.6461408 ,\n         2.166583  , -1.8103286 ,  0.9457093 , -0.12526248, -2.1458645 ,\n        -0.171338  ,  0.5207195 , -1.5163895 ,  1.5715888 ,  1.4130744 ,\n        -0.16182834, -0.16761403, -2.6016126 , -0.7709971 ,  1.5710032 ,\n        -0.9679242 , -0.90455556, -1.2925057 , -1.9625329 ,  0.67504823,\n         0.7283445 , -0.70282364, -0.8818216 ,  0.75903773, -0.26363954,\n        -0.20570222,  0.05438731, -1.0121843 ,  0.33663833]],\n      dtype=float32)>"
     },
     "metadata": {},
     "execution_count": 13
    }
   ],
   "source": [
    "inputs"
   ]
  },
  {
   "cell_type": "code",
   "execution_count": 26,
   "metadata": {
    "tags": []
   },
   "outputs": [
    {
     "output_type": "stream",
     "name": "stdout",
     "text": "input_1\n\t tf.Tensor(\n[[ 1.4135814   0.6421391  -0.27953327 -2.043901    1.4690732  -1.3739818\n  -1.3444251  -1.3715066  -0.97921956  1.5884216   0.2527496  -1.9697795\n   0.2984658  -0.89714307  0.7142499  -1.6682302   0.18361786  0.53128904\n   0.41940412  0.5479198   1.2807066  -0.53527325  1.2284347   1.413726\n   1.6461408   2.166583   -1.8103286   0.9457093  -0.12526248 -2.1458645\n  -0.171338    0.5207195  -1.5163895   1.5715888   1.4130744  -0.16182834\n  -0.16761403 -2.6016126  -0.7709971   1.5710032  -0.9679242  -0.90455556\n  -1.2925057  -1.9625329   0.67504823  0.7283445  -0.70282364 -0.8818216\n   0.75903773 -0.26363954 -0.20570222  0.05438731 -1.0121843   0.33663833]], shape=(1, 54), dtype=float32)\n\ndense\n\t tf.Tensor(\n[[ 0.03436713  1.218382    0.6580842   0.6625229   0.87704915 -2.2429101\n   1.2092168  -0.20030391 -1.7702703  -0.75314534]], shape=(1, 10), dtype=float32)\n\nbatch_normalization\n\t tf.Tensor([[0. 0. 0. 0. 0. 0. 0. 0. 0. 0.]], shape=(1, 10), dtype=float32)\n\nleaky_re_lu\n\t tf.Tensor([[0. 0. 0. 0. 0. 0. 0. 0. 0. 0.]], shape=(1, 10), dtype=float32)\n\ndropout\n\t tf.Tensor([[0. 0. 0. 0. 0. 0. 0. 0. 0. 0.]], shape=(1, 10), dtype=float32)\n\n"
    }
   ],
   "source": [
    "outputs = inputs\n",
    "for curr_layer in model.layers:\n",
    "    outputs = curr_layer(outputs, training=True)\n",
    "    print(curr_layer.name)\n",
    "    print(\"\\t\",outputs)\n",
    "    print()"
   ]
  },
  {
   "cell_type": "code",
   "execution_count": null,
   "metadata": {},
   "outputs": [],
   "source": []
  }
 ]
}