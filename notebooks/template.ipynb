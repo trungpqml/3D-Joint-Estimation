{
 "metadata": {
  "language_info": {
   "codemirror_mode": {
    "name": "ipython",
    "version": 3
   },
   "file_extension": ".py",
   "mimetype": "text/x-python",
   "name": "python",
   "nbconvert_exporter": "python",
   "pygments_lexer": "ipython3",
   "version": "3.8.3-final"
  },
  "orig_nbformat": 2,
  "kernelspec": {
   "name": "python_defaultSpec_1597543366593",
   "display_name": "Python 3.8.3 64-bit ('venv3d': venv)"
  }
 },
 "nbformat": 4,
 "nbformat_minor": 2,
 "cells": [
  {
   "cell_type": "code",
   "execution_count": 1,
   "metadata": {
    "tags": []
   },
   "outputs": [],
   "source": [
    "import os, sys\n",
    "from os.path import join\n",
    "sys.path.insert(0, join(os.path.curdir, '..'))\n",
    "# print('\\n'.join(sys.path))"
   ]
  },
  {
   "cell_type": "code",
   "execution_count": 2,
   "metadata": {},
   "outputs": [],
   "source": [
    "import tensorflow as tf\n",
    "from tensorflow.keras.models import Sequential\n",
    "from modules.config import cfg\n",
    "from modules.main.helper.plot import plot_history\n",
    "from modules.main.helper.callback import LogCallback\n",
    "from modules.main.model.get_model import get_refine_net"
   ]
  },
  {
   "cell_type": "markdown",
   "metadata": {},
   "source": [
    "### Data"
   ]
  },
  {
   "cell_type": "code",
   "execution_count": 3,
   "metadata": {
    "tags": []
   },
   "outputs": [
    {
     "output_type": "stream",
     "name": "stdout",
     "text": "(200, 54) (200, 54)\n(20, 54) (20, 54)\n"
    }
   ],
   "source": [
    "X_train, y_train = tf.random.uniform((200, 54)), tf.random.uniform((200,54))\n",
    "X_val, y_val = tf.random.uniform((20, 54)), tf.random.uniform((20, 54))\n",
    "print(X_train.shape, y_train.shape)\n",
    "print(X_val.shape, y_val.shape) "
   ]
  },
  {
   "cell_type": "markdown",
   "metadata": {},
   "source": [
    "### Model"
   ]
  },
  {
   "cell_type": "code",
   "execution_count": 4,
   "metadata": {
    "tags": []
   },
   "outputs": [],
   "source": [
    "model = Sequential([\n",
    "    tf.keras.layers.Dense(54, activation='relu', input_shape=(54,)),\n",
    "    tf.keras.layers.Dense(54, activation='relu'),\n",
    "    tf.keras.layers.Dense(54)\n",
    "])"
   ]
  },
  {
   "cell_type": "code",
   "execution_count": 5,
   "metadata": {},
   "outputs": [],
   "source": [
    "model.compile(\n",
    "    optimizer='sgd',\n",
    "    loss='mse',\n",
    "    metrics=['accuracy']\n",
    ")"
   ]
  },
  {
   "cell_type": "code",
   "execution_count": 6,
   "metadata": {
    "tags": []
   },
   "outputs": [
    {
     "output_type": "stream",
     "name": "stdout",
     "text": "Start training model\nEpoch 1/5\n7/7 [==============================] - 0s 20ms/step - loss: 0.4035 - accuracy: 0.0200 - val_loss: 0.3780 - val_accuracy: 0.0500\nEpoch 2/5\n7/7 [==============================] - 0s 4ms/step - loss: 0.3882 - accuracy: 0.0200 - val_loss: 0.3646 - val_accuracy: 0.0500\nEpoch 3/5\n7/7 [==============================] - 0s 3ms/step - loss: 0.3754 - accuracy: 0.0200 - val_loss: 0.3531 - val_accuracy: 0.0500\nEpoch 4/5\n7/7 [==============================] - 0s 3ms/step - loss: 0.3644 - accuracy: 0.0200 - val_loss: 0.3431 - val_accuracy: 0.0500\nEpoch 5/5\n7/7 [==============================] - 0s 4ms/step - loss: 0.3547 - accuracy: 0.0200 - val_loss: 0.3343 - val_accuracy: 0.0500\nFinish training model\n{'loss': 0.3547079861164093, 'accuracy': 0.019999999552965164, 'val_loss': 0.33427149057388306, 'val_accuracy': 0.05000000074505806}\n"
    }
   ],
   "source": [
    "history = model.fit(\n",
    "    x=X_train,\n",
    "    y=y_train,\n",
    "    validation_data=(X_val, y_val),\n",
    "    epochs=5,\n",
    "    callbacks=[LogCallback()]\n",
    ")"
   ]
  },
  {
   "cell_type": "code",
   "execution_count": null,
   "metadata": {},
   "outputs": [],
   "source": []
  }
 ]
}