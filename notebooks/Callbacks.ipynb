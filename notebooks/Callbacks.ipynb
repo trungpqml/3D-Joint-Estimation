{
 "metadata": {
  "language_info": {
   "codemirror_mode": {
    "name": "ipython",
    "version": 3
   },
   "file_extension": ".py",
   "mimetype": "text/x-python",
   "name": "python",
   "nbconvert_exporter": "python",
   "pygments_lexer": "ipython3",
   "version": "3.8.3-final"
  },
  "orig_nbformat": 2,
  "kernelspec": {
   "name": "python_defaultSpec_1597536463816",
   "display_name": "Python 3.8.3 64-bit ('venv3d': venv)"
  }
 },
 "nbformat": 4,
 "nbformat_minor": 2,
 "cells": [
  {
   "cell_type": "code",
   "execution_count": 1,
   "metadata": {
    "tags": []
   },
   "outputs": [],
   "source": [
    "import os, sys\n",
    "from os.path import join\n",
    "sys.path.insert(0, join(os.path.curdir, '..'))"
   ]
  },
  {
   "cell_type": "code",
   "execution_count": 2,
   "metadata": {},
   "outputs": [],
   "source": [
    "import tensorflow as tf\n",
    "from tensorflow.keras.models import Sequential\n",
    "from modules.config import cfg\n",
    "from modules.main.helper.plot import plot_history\n",
    "from modules.main.helper.callback import get_checkpoint_callback, get_earlystopping_callback, get_logging_callback, get_tensorboard_callback\n",
    "from modules.main.model.get_model import get_refine_net"
   ]
  },
  {
   "cell_type": "code",
   "execution_count": 3,
   "metadata": {
    "tags": []
   },
   "outputs": [
    {
     "output_type": "stream",
     "name": "stdout",
     "text": "(200, 54) (200, 54)\n(20, 54) (20, 54)\n"
    }
   ],
   "source": [
    "X_train, y_train = tf.random.uniform((200, 54)), tf.random.uniform((200,54))\n",
    "X_val, y_val = tf.random.uniform((20, 54)), tf.random.uniform((20, 54))\n",
    "print(X_train.shape, y_train.shape)\n",
    "print(X_val.shape, y_val.shape) "
   ]
  },
  {
   "cell_type": "code",
   "execution_count": 4,
   "metadata": {},
   "outputs": [],
   "source": [
    "model = Sequential([\n",
    "    tf.keras.layers.Dense(54, activation='relu', input_shape=(54,)),\n",
    "    tf.keras.layers.Dense(54, activation='relu'),\n",
    "    tf.keras.layers.Dense(54)\n",
    "])\n",
    "# model = get_refine_net()"
   ]
  },
  {
   "cell_type": "code",
   "execution_count": 5,
   "metadata": {},
   "outputs": [],
   "source": [
    "model.compile(\n",
    "    optimizer='sgd',\n",
    "    loss='mae',\n",
    "    metrics=['accuracy']\n",
    ")"
   ]
  },
  {
   "cell_type": "code",
   "execution_count": 6,
   "metadata": {
    "tags": []
   },
   "outputs": [
    {
     "output_type": "stream",
     "name": "stdout",
     "text": "Epoch 1/250\n1/7 [===>..........................] - ETA: 0s - loss: 0.5657 - accuracy: 0.0000e+00WARNING:tensorflow:From /Users/casey/Desktop/WIP/3D Joint Estimation/venv3d/lib/python3.8/site-packages/tensorflow/python/ops/summary_ops_v2.py:1277: stop (from tensorflow.python.eager.profiler) is deprecated and will be removed after 2020-07-01.\nInstructions for updating:\nuse `tf.profiler.experimental.stop` instead.\nWARNING:tensorflow:Callbacks method `on_train_batch_end` is slow compared to the batch time (batch time: 0.0011s vs `on_train_batch_end` time: 0.0128s). Check your callbacks.\n7/7 [==============================] - 0s 23ms/step - loss: 0.5558 - accuracy: 0.0000e+00 - val_loss: 0.5336 - val_accuracy: 0.0500\nEpoch 2/250\n7/7 [==============================] - 0s 3ms/step - loss: 0.5438 - accuracy: 0.0000e+00 - val_loss: 0.5220 - val_accuracy: 0.0500\nEpoch 3/250\n7/7 [==============================] - 0s 4ms/step - loss: 0.5327 - accuracy: 0.0000e+00 - val_loss: 0.5110 - val_accuracy: 0.1000\nEpoch 4/250\n7/7 [==============================] - 0s 4ms/step - loss: 0.5224 - accuracy: 0.0000e+00 - val_loss: 0.5004 - val_accuracy: 0.1000\nEpoch 5/250\n7/7 [==============================] - 0s 4ms/step - loss: 0.5125 - accuracy: 0.0000e+00 - val_loss: 0.4905 - val_accuracy: 0.1000\nEpoch 6/250\n7/7 [==============================] - 0s 3ms/step - loss: 0.5033 - accuracy: 0.0000e+00 - val_loss: 0.4812 - val_accuracy: 0.1000\nEpoch 7/250\n7/7 [==============================] - 0s 4ms/step - loss: 0.4944 - accuracy: 0.0000e+00 - val_loss: 0.4725 - val_accuracy: 0.1000\nEpoch 8/250\n7/7 [==============================] - 0s 4ms/step - loss: 0.4862 - accuracy: 0.0000e+00 - val_loss: 0.4643 - val_accuracy: 0.1000\nEpoch 9/250\n7/7 [==============================] - 0s 4ms/step - loss: 0.4784 - accuracy: 0.0000e+00 - val_loss: 0.4566 - val_accuracy: 0.0500\nEpoch 10/250\n7/7 [==============================] - 0s 4ms/step - loss: 0.4712 - accuracy: 0.0050 - val_loss: 0.4493 - val_accuracy: 0.0000e+00\nEpoch 11/250\n7/7 [==============================] - 0s 3ms/step - loss: 0.4642 - accuracy: 0.0050 - val_loss: 0.4424 - val_accuracy: 0.0000e+00\nEpoch 12/250\n7/7 [==============================] - 0s 3ms/step - loss: 0.4578 - accuracy: 0.0050 - val_loss: 0.4360 - val_accuracy: 0.0000e+00\nEpoch 13/250\n7/7 [==============================] - 0s 4ms/step - loss: 0.4516 - accuracy: 0.0050 - val_loss: 0.4299 - val_accuracy: 0.0000e+00\nEpoch 14/250\n7/7 [==============================] - 0s 4ms/step - loss: 0.4458 - accuracy: 0.0050 - val_loss: 0.4242 - val_accuracy: 0.0000e+00\nEpoch 15/250\n7/7 [==============================] - 0s 4ms/step - loss: 0.4403 - accuracy: 0.0050 - val_loss: 0.4186 - val_accuracy: 0.0000e+00\nEpoch 16/250\n7/7 [==============================] - 0s 5ms/step - loss: 0.4351 - accuracy: 0.0050 - val_loss: 0.4134 - val_accuracy: 0.0000e+00\nEpoch 17/250\n7/7 [==============================] - 0s 4ms/step - loss: 0.4300 - accuracy: 0.0050 - val_loss: 0.4083 - val_accuracy: 0.0000e+00\nEpoch 18/250\n7/7 [==============================] - 0s 4ms/step - loss: 0.4252 - accuracy: 0.0050 - val_loss: 0.4032 - val_accuracy: 0.0000e+00\nEpoch 19/250\n7/7 [==============================] - 0s 3ms/step - loss: 0.4205 - accuracy: 0.0050 - val_loss: 0.3986 - val_accuracy: 0.0000e+00\nEpoch 20/250\n7/7 [==============================] - 0s 4ms/step - loss: 0.4161 - accuracy: 0.0050 - val_loss: 0.3939 - val_accuracy: 0.0000e+00\nEpoch 21/250\n7/7 [==============================] - 0s 4ms/step - loss: 0.4116 - accuracy: 0.0050 - val_loss: 0.3895 - val_accuracy: 0.0000e+00\nEpoch 22/250\n7/7 [==============================] - 0s 4ms/step - loss: 0.4074 - accuracy: 0.0150 - val_loss: 0.3853 - val_accuracy: 0.0000e+00\nEpoch 23/250\n1/7 [===>..........................] - ETA: 0s - loss: 0.4102 - accuracy: 0.0000e+00Restoring model weights from the end of the best epoch.\n7/7 [==============================] - 0s 4ms/step - loss: 0.4033 - accuracy: 0.0150 - val_loss: 0.3813 - val_accuracy: 0.0000e+00\nEpoch 00023: early stopping\n"
    }
   ],
   "source": [
    "history = model.fit(\n",
    "    x=X_train,\n",
    "    y=y_train,\n",
    "    validation_data=(X_val, y_val),\n",
    "    epochs=cfg.epochs,\n",
    "    callbacks=[get_tensorboard_callback() ,get_earlystopping_callback()],\n",
    "    # verbose=1\n",
    ")"
   ]
  },
  {
   "cell_type": "code",
   "execution_count": 7,
   "metadata": {},
   "outputs": [
    {
     "data": {
      "text/plain": "Reusing TensorBoard on port 6006 (pid 17150), started 0:00:38 ago. (Use '!kill 17150' to kill it.)"
     },
     "metadata": {},
     "output_type": "display_data"
    }
   ],
   "source": [
    "%load_ext tensorboard\n",
    "%tensorboard --logdir=cfg.log_dir --port=6006"
   ]
  },
  {
   "cell_type": "code",
   "execution_count": null,
   "metadata": {},
   "outputs": [],
   "source": []
  }
 ]
}